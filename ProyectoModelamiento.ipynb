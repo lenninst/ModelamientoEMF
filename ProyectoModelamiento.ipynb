{
  "nbformat": 4,
  "nbformat_minor": 0,
  "metadata": {
    "colab": {
      "name": "ProyectoModelamiento.ipynb",
      "provenance": [],
      "authorship_tag": "ABX9TyMG9er60g6hYVwZdHJFuemX",
      "include_colab_link": true
    },
    "kernelspec": {
      "name": "python3",
      "display_name": "Python 3"
    },
    "language_info": {
      "name": "python"
    }
  },
  "cells": [
    {
      "cell_type": "markdown",
      "metadata": {
        "id": "view-in-github",
        "colab_type": "text"
      },
      "source": [
        "<a href=\"https://colab.research.google.com/github/lenninst/ModelamientoEMF/blob/main/ProyectoModelamiento.ipynb\" target=\"_parent\"><img src=\"https://colab.research.google.com/assets/colab-badge.svg\" alt=\"Open In Colab\"/></a>"
      ]
    },
    {
      "cell_type": "markdown",
      "source": [
        "Generar código python a partir de meta modelos. Usando pyecoregen\n"
      ],
      "metadata": {
        "id": "5Hc5jS45KocQ"
      }
    },
    {
      "cell_type": "code",
      "source": [
        "!pip install pyecoregen"
      ],
      "metadata": {
        "colab": {
          "base_uri": "https://localhost:8080/"
        },
        "id": "7BoRtdQ-G74I",
        "outputId": "0f11c36f-a831-4880-f225-e3f2aa1f9140"
      },
      "execution_count": null,
      "outputs": [
        {
          "output_type": "stream",
          "name": "stdout",
          "text": [
            "Collecting pyecoregen\n",
            "  Downloading pyecoregen-0.5.1-py3-none-any.whl (13 kB)\n",
            "Requirement already satisfied: jinja2 in /usr/local/lib/python3.7/dist-packages (from pyecoregen) (2.11.3)\n",
            "Collecting pymultigen\n",
            "  Downloading pymultigen-0.2.0-py3-none-any.whl (12 kB)\n",
            "Collecting autopep8\n",
            "  Downloading autopep8-1.6.0-py2.py3-none-any.whl (45 kB)\n",
            "\u001b[K     |████████████████████████████████| 45 kB 1.7 MB/s \n",
            "\u001b[?25hCollecting pyecore\n",
            "  Downloading pyecore-0.12.2-py3-none-any.whl (42 kB)\n",
            "\u001b[K     |████████████████████████████████| 42 kB 1.0 MB/s \n",
            "\u001b[?25hCollecting toml\n",
            "  Using cached toml-0.10.2-py2.py3-none-any.whl (16 kB)\n",
            "Collecting pycodestyle>=2.8.0\n",
            "  Downloading pycodestyle-2.8.0-py2.py3-none-any.whl (42 kB)\n",
            "\u001b[K     |████████████████████████████████| 42 kB 750 kB/s \n",
            "\u001b[?25hRequirement already satisfied: MarkupSafe>=0.23 in /usr/local/lib/python3.7/dist-packages (from jinja2->pyecoregen) (2.0.1)\n",
            "Collecting ordered-set>=4.0.1\n",
            "  Downloading ordered_set-4.1.0-py3-none-any.whl (7.6 kB)\n",
            "Collecting restrictedpython>=4.0b6\n",
            "  Downloading RestrictedPython-5.2-py2.py3-none-any.whl (28 kB)\n",
            "Requirement already satisfied: lxml in /usr/local/lib/python3.7/dist-packages (from pyecore->pyecoregen) (4.2.6)\n",
            "Collecting future-fstrings\n",
            "  Downloading future_fstrings-1.2.0-py2.py3-none-any.whl (6.1 kB)\n",
            "Installing collected packages: toml, restrictedpython, pycodestyle, ordered-set, future-fstrings, pymultigen, pyecore, autopep8, pyecoregen\n",
            "Successfully installed autopep8-1.6.0 future-fstrings-1.2.0 ordered-set-4.1.0 pycodestyle-2.8.0 pyecore-0.12.2 pyecoregen-0.5.1 pymultigen-0.2.0 restrictedpython-5.2 toml-0.10.2\n"
          ]
        }
      ]
    },
    {
      "cell_type": "markdown",
      "source": [
        "Ejecutar script "
      ],
      "metadata": {
        "id": "NdCOCO1OHSwX"
      }
    },
    {
      "cell_type": "code",
      "source": [
        "!pyecoregen -vv -e Metamodelo.ecore -o some/content "
      ],
      "metadata": {
        "colab": {
          "base_uri": "https://localhost:8080/"
        },
        "id": "ukv4r-qZHSLn",
        "outputId": "8a11ec71-9d18-4c85-dd4b-b884567715fa"
      },
      "execution_count": null,
      "outputs": [
        {
          "output_type": "stream",
          "name": "stdout",
          "text": [
            "2022-03-23 14:16:33,874 INFO [multigen.generator] Generating code to 'some/content'.\n",
            "2022-03-23 14:16:33,874 DEBUG [multigen.generator] <pyecore.ecore.EPackage object at 0x7fed3b292910> --> 'some/content/Metamodelo/__init__.py'\n",
            "2022-03-23 14:16:34,001 DEBUG [multigen.generator] <pyecore.ecore.EPackage object at 0x7fed3b292910> --> 'some/content/Metamodelo/Metamodelo.py'\n"
          ]
        }
      ]
    }
  ]
}